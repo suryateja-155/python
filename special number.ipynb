{
 "cells": [
  {
   "cell_type": "code",
   "execution_count": 1,
   "id": "becac90f-16e7-45ef-a921-d3ebb10046f5",
   "metadata": {},
   "outputs": [
    {
     "name": "stdin",
     "output_type": "stream",
     "text": [
      " 1\n"
     ]
    },
    {
     "name": "stdout",
     "output_type": "stream",
     "text": [
      "first digit: 0\n",
      "second digit: 1\n"
     ]
    }
   ],
   "source": [
    "n=int(input())\n",
    "first=n//10\n",
    "second=n%10\n",
    "print(\"first digit:\",first)\n",
    "print(\"second digit:\",second)"
   ]
  },
  {
   "cell_type": "code",
   "execution_count": 5,
   "id": "7d3c2814-9ede-4f15-a7bf-713f78b18035",
   "metadata": {},
   "outputs": [
    {
     "name": "stdout",
     "output_type": "stream",
     "text": [
      "yes,special number\n"
     ]
    }
   ],
   "source": [
    "sum=first+second\n",
    "product=first*second\n",
    "if(sum+product)==n:\n",
    "    print(\"yes,special number\")\n",
    "else:\n",
    "    print(\"not\")\n",
    "    "
   ]
  },
  {
   "cell_type": "code",
   "execution_count": null,
   "id": "dc4ecc0f-2972-4409-b3ff-3bf663fa4780",
   "metadata": {},
   "outputs": [],
   "source": []
  }
 ],
 "metadata": {
  "kernelspec": {
   "display_name": "Python 3 (ipykernel)",
   "language": "python",
   "name": "python3"
  },
  "language_info": {
   "codemirror_mode": {
    "name": "ipython",
    "version": 3
   },
   "file_extension": ".py",
   "mimetype": "text/x-python",
   "name": "python",
   "nbconvert_exporter": "python",
   "pygments_lexer": "ipython3",
   "version": "3.12.4"
  }
 },
 "nbformat": 4,
 "nbformat_minor": 5
}
